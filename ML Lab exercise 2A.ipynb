{
  "nbformat": 4,
  "nbformat_minor": 0,
  "metadata": {
    "colab": {
      "provenance": []
    },
    "kernelspec": {
      "name": "python3",
      "display_name": "Python 3"
    },
    "language_info": {
      "name": "python"
    }
  },
  "cells": [
    {
      "cell_type": "code",
      "execution_count": 1,
      "metadata": {
        "colab": {
          "base_uri": "https://localhost:8080/"
        },
        "id": "wTrAzwPsjrOu",
        "outputId": "0330a67b-c3c5-496c-e81e-58103cddae53"
      },
      "outputs": [
        {
          "output_type": "stream",
          "name": "stdout",
          "text": [
            "Reg No: 111622201118\n",
            "\n",
            "\n",
            "RSS 0.25 1.0 0.0 0.25\n",
            "Error 0.8928571428571429\n"
          ]
        }
      ],
      "source": [
        "val1 = (1 - (2.5 * 1 + (-2)))**2\n",
        "val2 = (2 - (2.5 * 2 + (-2)))**2\n",
        "val3 = (3 - (2.5 * 2 + (-2)))**2\n",
        "val4 = (6 - (2.5 * 3 + (-2)))**2\n",
        "rss = val1 + val2 + val3 + val4\n",
        "print(\"Reg No: 111622201118\")\n",
        "print(\"\\n\")\n",
        "print(\"RSS\", val1, val2, val3, val4)\n",
        "y = [1, 2, 3, 6]\n",
        "y_mean = sum(y) / len(y)\n",
        "y_var = sum((yi - y_mean)**2 for yi in y)\n",
        "tss = y_var\n",
        "\n",
        "r_squared = 1 - (rss / tss)\n",
        "print(\"Error\", r_squared)"
      ]
    }
  ]
}