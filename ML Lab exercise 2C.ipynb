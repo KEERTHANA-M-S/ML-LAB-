{
  "nbformat": 4,
  "nbformat_minor": 0,
  "metadata": {
    "colab": {
      "provenance": []
    },
    "kernelspec": {
      "name": "python3",
      "display_name": "Python 3"
    },
    "language_info": {
      "name": "python"
    }
  },
  "cells": [
    {
      "cell_type": "code",
      "execution_count": 4,
      "metadata": {
        "colab": {
          "base_uri": "https://localhost:8080/"
        },
        "id": "wTrAzwPsjrOu",
        "outputId": "ff6405f1-6227-4dfc-b9ca-383d966f9afa"
      },
      "outputs": [
        {
          "output_type": "stream",
          "name": "stdout",
          "text": [
            "Reg no:111622201118\n",
            "MAE: 0.31999999999999995\n"
          ]
        }
      ],
      "source": [
        "import numpy as np\n",
        "def mean_absolute_error(y_true, y_pred):\n",
        " n = len(y_true)\n",
        " var = sum(abs(y_true[i] - y_pred[i]) for i in range(n)) / n\n",
        " return var\n",
        "actual = [2, 4, 6, 8, 10]\n",
        "predicted = [1.5, 4.2, 5.8, 7.5, 9.8]\n",
        "var_res = mean_absolute_error(actual, predicted)\n",
        "print(\"Reg no:111622201118\")\n",
        "print(f\"MAE: {var_res}\")"
      ]
    }
  ]
}