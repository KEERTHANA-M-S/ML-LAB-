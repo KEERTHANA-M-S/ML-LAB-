{
  "nbformat": 4,
  "nbformat_minor": 0,
  "metadata": {
    "colab": {
      "provenance": []
    },
    "kernelspec": {
      "name": "python3",
      "display_name": "Python 3"
    },
    "language_info": {
      "name": "python"
    }
  },
  "cells": [
    {
      "cell_type": "code",
      "execution_count": 8,
      "metadata": {
        "colab": {
          "base_uri": "https://localhost:8080/"
        },
        "id": "wTrAzwPsjrOu",
        "outputId": "6af0ee5f-8889-4e92-fa5e-56ae5c593763"
      },
      "outputs": [
        {
          "output_type": "stream",
          "name": "stdout",
          "text": [
            "Reg no:111622201118\n",
            "mse: 0.4724999999999999\n"
          ]
        }
      ],
      "source": [
        "import numpy as np\n",
        "def mean_squared_error(y_true, y_pred):\n",
        "   squared_diff = (y_true - y_pred)**2\n",
        "   mse = np.mean(squared_diff)\n",
        "   return mse\n",
        "y_true = np.array([3, -0.5, 2, 7])\n",
        "y_pred = np.array([2.2, 0.0, 2, 8])\n",
        "mse = mean_squared_error(y_true, y_pred)\n",
        "print(\"Reg no:111622201118\")\n",
        "print(f\"mse: {mse}\")"
      ]
    }
  ]
}